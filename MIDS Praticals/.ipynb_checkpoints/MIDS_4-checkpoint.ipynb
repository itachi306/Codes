{
 "cells": [
  {
   "cell_type": "code",
   "execution_count": 1,
   "id": "2db7b569",
   "metadata": {},
   "outputs": [
    {
     "name": "stdout",
     "output_type": "stream",
     "text": [
      "Actual vs Predicted Age:\n",
      "      Actual Age  Predicted Age\n",
      "866            9      11.878330\n",
      "1483           8      10.312167\n",
      "599           16      13.866594\n",
      "1702           9      11.831387\n",
      "670           14      11.212982\n",
      "...          ...            ...\n",
      "3093          11      10.748955\n",
      "1651           8      10.089120\n",
      "2897          10       9.212014\n",
      "3953           8       8.985429\n",
      "1830           7       7.254634\n",
      "\n",
      "[836 rows x 2 columns]\n"
     ]
    },
    {
     "ename": "NameError",
     "evalue": "name 'y_test_reg' is not defined",
     "output_type": "error",
     "traceback": [
      "\u001b[1;31m---------------------------------------------------------------------------\u001b[0m",
      "\u001b[1;31mNameError\u001b[0m                                 Traceback (most recent call last)",
      "Cell \u001b[1;32mIn[1], line 37\u001b[0m\n\u001b[0;32m     34\u001b[0m \u001b[38;5;28mprint\u001b[39m(\u001b[38;5;124m\"\u001b[39m\u001b[38;5;124mActual vs Predicted Age:\u001b[39m\u001b[38;5;124m\"\u001b[39m)\n\u001b[0;32m     35\u001b[0m \u001b[38;5;28mprint\u001b[39m(results)\n\u001b[1;32m---> 37\u001b[0m mse_reg \u001b[38;5;241m=\u001b[39m mean_squared_error(y_test_reg, y_pred_reg)\n\u001b[0;32m     38\u001b[0m \u001b[38;5;28mprint\u001b[39m(\u001b[38;5;124m\"\u001b[39m\u001b[38;5;124mMean Squared Error (Regression):\u001b[39m\u001b[38;5;124m\"\u001b[39m, mse_reg)\n\u001b[0;32m     40\u001b[0m \u001b[38;5;66;03m# Make predictions on user input\u001b[39;00m\n",
      "\u001b[1;31mNameError\u001b[0m: name 'y_test_reg' is not defined"
     ]
    }
   ],
   "source": [
    "#Name- Amey Patil\n",
    "#Roll no - 33551\n",
    "#Batch- T3\n",
    "\n",
    "import pandas as pd\n",
    "from sklearn.model_selection import train_test_split\n",
    "from sklearn.linear_model import LinearRegression\n",
    "from sklearn.metrics import mean_squared_error\n",
    "\n",
    "# Load the dataset\n",
    "url = \"http://archive.ics.uci.edu/ml/machine-learning-databases/abalone/abalone.data\"\n",
    "abalone_columns = ['Sex', 'Length', 'Diameter', 'Height', 'Whole weight', 'Shucked weight', 'Viscera weight', 'Shell weight', 'Rings']\n",
    "abalone_data = pd.read_csv(url, names=abalone_columns)\n",
    "\n",
    "# Convert sex from categorical to numerical\n",
    "abalone_data['Sex'] = abalone_data['Sex'].map({'M': 0, 'F': 1, 'I': 2})\n",
    "\n",
    "# Split data into features and target\n",
    "X = abalone_data.drop('Rings', axis=1)  # Features\n",
    "y = abalone_data['Rings']  # Target (age in years)\n",
    "\n",
    "# Split data into train and test sets\n",
    "X_train, X_test, y_train, y_test = train_test_split(X, y, test_size=0.2, random_state=42)\n",
    "\n",
    "# Initialize and train the linear regression model\n",
    "model = LinearRegression()\n",
    "model.fit(X_train, y_train)\n",
    "\n",
    "# Make predictions on test set\n",
    "y_pred = model.predict(X_test)\n",
    "\n",
    "# Display actual vs predicted age\n",
    "results = pd.DataFrame({'Actual Age': y_test, 'Predicted Age': y_pred})\n",
    "print(\"Actual vs Predicted Age:\")\n",
    "print(results)\n",
    "\n",
    "mse_reg = mean_squared_error(y_test_reg, y_pred_reg)\n",
    "print(\"Mean Squared Error (Regression):\", mse_reg)\n",
    "\n",
    "# Make predictions on user input\n",
    "sex = int(input(\"Enter sex (0 for M, 1 for F, 2 for I): \"))\n",
    "length = float(input(\"Enter length (mm): \"))\n",
    "diameter = float(input(\"Enter diameter (mm): \"))\n",
    "height = float(input(\"Enter height (mm): \"))\n",
    "whole_weight = float(input(\"Enter whole weight (grams): \"))\n",
    "shucked_weight = float(input(\"Enter shucked weight (grams): \"))\n",
    "viscera_weight = float(input(\"Enter viscera weight (grams): \"))\n",
    "shell_weight = float(input(\"Enter shell weight (grams): \"))\n",
    "\n",
    "user_input = pd.DataFrame({'Sex': [sex], 'Length': [length], 'Diameter': [diameter], 'Height': [height], \n",
    "                           'Whole weight': [whole_weight], 'Shucked weight': [shucked_weight], \n",
    "                           'Viscera weight': [viscera_weight], 'Shell weight': [shell_weight]})\n",
    "\n",
    "predicted_age = model.predict(user_input)[0]\n",
    "print(\"Predicted Age of the abalone:\", round(predicted_age, 2), \"years\")\n",
    "\n",
    "#ex = [0.295 , 0.225 , 0.08 , 0.124 , 0.0485, 0.032 , 0.04 ]\n"
   ]
  },
  {
   "cell_type": "code",
   "execution_count": null,
   "id": "77d11bfa",
   "metadata": {},
   "outputs": [],
   "source": []
  },
  {
   "cell_type": "code",
   "execution_count": null,
   "id": "bcf7d432",
   "metadata": {},
   "outputs": [],
   "source": []
  },
  {
   "cell_type": "code",
   "execution_count": null,
   "id": "0432dad2",
   "metadata": {},
   "outputs": [],
   "source": [
    "\n"
   ]
  },
  {
   "cell_type": "code",
   "execution_count": null,
   "id": "571e991a",
   "metadata": {},
   "outputs": [],
   "source": []
  },
  {
   "cell_type": "code",
   "execution_count": null,
   "id": "4c73daca",
   "metadata": {},
   "outputs": [],
   "source": []
  },
  {
   "cell_type": "code",
   "execution_count": null,
   "id": "c1b819ac",
   "metadata": {},
   "outputs": [],
   "source": []
  },
  {
   "cell_type": "code",
   "execution_count": null,
   "id": "e03d41d4",
   "metadata": {},
   "outputs": [],
   "source": []
  },
  {
   "cell_type": "code",
   "execution_count": null,
   "id": "a654398e",
   "metadata": {},
   "outputs": [],
   "source": []
  },
  {
   "cell_type": "code",
   "execution_count": null,
   "id": "33ebc36f",
   "metadata": {},
   "outputs": [],
   "source": []
  },
  {
   "cell_type": "code",
   "execution_count": null,
   "id": "c97caa46",
   "metadata": {},
   "outputs": [],
   "source": []
  }
 ],
 "metadata": {
  "kernelspec": {
   "display_name": "Python 3 (ipykernel)",
   "language": "python",
   "name": "python3"
  },
  "language_info": {
   "codemirror_mode": {
    "name": "ipython",
    "version": 3
   },
   "file_extension": ".py",
   "mimetype": "text/x-python",
   "name": "python",
   "nbconvert_exporter": "python",
   "pygments_lexer": "ipython3",
   "version": "3.11.5"
  }
 },
 "nbformat": 4,
 "nbformat_minor": 5
}
