{
 "cells": [
  {
   "cell_type": "code",
   "execution_count": null,
   "id": "879c11ef",
   "metadata": {},
   "outputs": [],
   "source": [
    "from sklearn.model_selection import train_test_split\n",
    "from PIL import Image\n",
    "import os\n",
    "import shutil\n",
    "\n",
    "# Replace 'path/to/your/dataset' with the actual path to your dataset\n",
    "dataset_path = 'dataset'\n",
    "\n",
    "# Get a list of all image files in the dataset path\n",
    "image_files = [file for file in os.listdir(dataset_path) if file.endswith(('.jpg', '.jpeg', '.png'))]\n",
    "\n",
    "# Initialize lists to store image paths and corresponding labels\n",
    "image_paths = []\n",
    "labels = []\n",
    "\n",
    "# Assuming each class is represented by a single file in the dataset path\n",
    "for image_file in image_files:\n",
    "    image_path = os.path.join(dataset_path, image_file)\n",
    "    image_paths.append(image_path)\n",
    "    \n",
    "    # Extract label from the filename or provide labels in another way\n",
    "    # Example: Assuming the class name is part of the filename before the first underscore\n",
    "    label = image_file.split('_')[0]\n",
    "    labels.append(label)\n",
    "\n",
    "# Split the data into training and test sets (e.g., 80% training, 20% test)\n",
    "X_train, X_test, y_train, y_test = train_test_split(image_paths, labels, test_size=0.2, random_state=42)\n",
    "\n",
    "# Define the paths for the training and test folders\n",
    "train_folder = 'path/to/train/folder'\n",
    "test_folder = 'path/to/test/folder'\n",
    "\n",
    "# Create the training and test folders if they don't exist\n",
    "os.makedirs(train_folder, exist_ok=True)\n",
    "os.makedirs(test_folder, exist_ok=True)\n",
    "\n",
    "# Copy images to the appropriate folders based on the split\n",
    "for image_path, label in zip(X_train, y_train):\n",
    "    destination = os.path.join(train_folder, f'{label}_{os.path.basename(image_path)}')\n",
    "    shutil.copy(image_path, destination)\n",
    "\n",
    "for image_path, label in zip(X_test, y_test):\n",
    "    destination = os.path.join(test_folder, f'{label}_{os.path.basename(image_path)}')\n",
    "    shutil.copy(image_path, destination)\n"
   ]
  }
 ],
 "metadata": {
  "kernelspec": {
   "display_name": "Python 3 (ipykernel)",
   "language": "python",
   "name": "python3"
  },
  "language_info": {
   "codemirror_mode": {
    "name": "ipython",
    "version": 3
   },
   "file_extension": ".py",
   "mimetype": "text/x-python",
   "name": "python",
   "nbconvert_exporter": "python",
   "pygments_lexer": "ipython3",
   "version": "3.11.5"
  }
 },
 "nbformat": 4,
 "nbformat_minor": 5
}
