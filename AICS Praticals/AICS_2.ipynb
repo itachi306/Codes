{
 "cells": [
  {
   "cell_type": "code",
   "execution_count": null,
   "id": "71f1edc6",
   "metadata": {},
   "outputs": [],
   "source": [
    "import numpy as np\n",
    "import pandas as pd\n",
    "import matplotlib.pyplot as plt\n",
    "import seaborn as sns\n",
    "from sklearn.linear_model import LogisticRegression\n",
    "from sklearn.ensemble import RandomForestClassifier\n",
    "from sklearn.tree import DecisionTreeClassifier\n",
    "from sklearn.naive_bayes import GaussianNB\n",
    "from sklearn.model_selection import train_test_split\n",
    "from sklearn.preprocessing import LabelEncoder\n",
    "from sklearn.metrics import accuracy_score, classification_report, confusion_matrix"
   ]
  },
  {
   "cell_type": "code",
   "execution_count": null,
   "id": "a25625d9",
   "metadata": {},
   "outputs": [],
   "source": []
  },
  {
   "cell_type": "code",
   "execution_count": null,
   "id": "a5c6b75e",
   "metadata": {},
   "outputs": [],
   "source": []
  },
  {
   "cell_type": "code",
   "execution_count": null,
   "id": "c8f75b2e",
   "metadata": {},
   "outputs": [],
   "source": [
    "df = pd.read_csv(\"./dataset_sdn.csv\")\n",
    "df.shape"
   ]
  },
  {
   "cell_type": "code",
   "execution_count": null,
   "id": "c395692b",
   "metadata": {},
   "outputs": [],
   "source": [
    "df.sample(5)"
   ]
  },
  {
   "cell_type": "code",
   "execution_count": null,
   "id": "ca850427",
   "metadata": {},
   "outputs": [],
   "source": [
    "df.info()"
   ]
  },
  {
   "cell_type": "code",
   "execution_count": null,
   "id": "f8198493",
   "metadata": {},
   "outputs": [],
   "source": [
    "df.isnull().sum()"
   ]
  },
  {
   "cell_type": "code",
   "execution_count": null,
   "id": "e42bbe81",
   "metadata": {},
   "outputs": [],
   "source": [
    "df = df.dropna()"
   ]
  },
  {
   "cell_type": "code",
   "execution_count": null,
   "id": "7b68ceea",
   "metadata": {},
   "outputs": [],
   "source": [
    "df.describe()"
   ]
  },
  {
   "cell_type": "code",
   "execution_count": null,
   "id": "0ecef6e9",
   "metadata": {},
   "outputs": [],
   "source": [
    "numeric_df = df.select_dtypes(include=['int64', 'float64'])\n",
    "object_df = df.select_dtypes(include=['object'])\n",
    "numeric_cols = numeric_df.columns\n",
    "object_cols = object_df.columns\n",
    "print('Numeric Columns: ')\n",
    "print(numeric_cols, '\\n')\n",
    "print('Object Columns: ')\n",
    "print(object_cols, '\\n')\n",
    "print('Number of Numeric Features: ', len(numeric_cols))\n",
    "print('Number of Object Features: ', len(object_cols))"
   ]
  },
  {
   "cell_type": "code",
   "execution_count": null,
   "id": "e0e75883",
   "metadata": {},
   "outputs": [],
   "source": [
    "label_encoder = LabelEncoder()\n",
    "df['src'] = label_encoder.fit_transform(df['src'])\n",
    "df['dst'] = label_encoder.fit_transform(df['dst'])\n",
    "df['Protocol'] = label_encoder.fit_transform(df['Protocol'])"
   ]
  },
  {
   "cell_type": "code",
   "execution_count": null,
   "id": "8e1738ab",
   "metadata": {},
   "outputs": [],
   "source": [
    "X = df.drop('label', axis=1)\n",
    "y = df['label']"
   ]
  },
  {
   "cell_type": "code",
   "execution_count": null,
   "id": "ff14b12d",
   "metadata": {},
   "outputs": [],
   "source": [
    "X_train, X_test, y_train, y_test = train_test_split(X, y, test_size=0.2, random_state=42)"
   ]
  },
  {
   "cell_type": "code",
   "execution_count": null,
   "id": "210ec88a",
   "metadata": {},
   "outputs": [],
   "source": [
    "def Evalute_model(model):\n",
    "    model.fit(X_train, y_train)\n",
    "    y_pred = model.predict(X_test)\n",
    "    print(\"Accuracy Score: {:.2f}%\".format(accuracy_score(y_test, y_pred)*100))\n",
    "    print(\"Classification Report:\\n{}\".format(classification_report(y_test, y_pred))) \n",
    "    print(\"Confusion Matrix:\\n{}\".format(confusion_matrix(y_test, y_pred)))"
   ]
  },
  {
   "cell_type": "code",
   "execution_count": null,
   "id": "2787a199",
   "metadata": {},
   "outputs": [],
   "source": [
    "Evalute_model(LogisticRegression())"
   ]
  },
  {
   "cell_type": "code",
   "execution_count": null,
   "id": "0d386768",
   "metadata": {},
   "outputs": [],
   "source": [
    "Evalute_model(RandomForestClassifier())"
   ]
  },
  {
   "cell_type": "code",
   "execution_count": null,
   "id": "4a883d2b",
   "metadata": {},
   "outputs": [],
   "source": [
    "Evalute_model(DecisionTreeClassifier())"
   ]
  },
  {
   "cell_type": "code",
   "execution_count": null,
   "id": "5c365151",
   "metadata": {},
   "outputs": [],
   "source": [
    "Evalute_model(GaussianNB())"
   ]
  },
  {
   "cell_type": "code",
   "execution_count": null,
   "id": "93b7fee7",
   "metadata": {},
   "outputs": [],
   "source": []
  }
 ],
 "metadata": {
  "kernelspec": {
   "display_name": "Python 3 (ipykernel)",
   "language": "python",
   "name": "python3"
  },
  "language_info": {
   "codemirror_mode": {
    "name": "ipython",
    "version": 3
   },
   "file_extension": ".py",
   "mimetype": "text/x-python",
   "name": "python",
   "nbconvert_exporter": "python",
   "pygments_lexer": "ipython3",
   "version": "3.11.5"
  }
 },
 "nbformat": 4,
 "nbformat_minor": 5
}
